{
 "cells": [
  {
   "cell_type": "code",
   "execution_count": 2,
   "id": "bcc6a125-212b-44d1-86cd-35e98bac104f",
   "metadata": {},
   "outputs": [],
   "source": [
    "from collections import deque\n",
    "import multiprocessing\n",
    "import time\n",
    "\n",
    "class Node:\n",
    "    def __init__(self, data):\n",
    "        self.data = data\n",
    "        self.left = None\n",
    "        self.right = None\n",
    "        self.middle = None\n",
    "\n",
    "def BreadthFirstSearch(tree):\n",
    "    if tree is None:\n",
    "        return\n",
    "    \n",
    "    queue = deque()\n",
    "    queue.append(tree)\n",
    "    while queue:\n",
    "        node = queue.popleft()\n",
    "        print(node.data, end=\" \")\n",
    "        \n",
    "        if node.data == \"E\":\n",
    "            break\n",
    "\n",
    "        if node.left is not None:\n",
    "            queue.append(node.left)\n",
    "            \n",
    "        if node.middle is not None:\n",
    "            queue.append(node.middle)\n",
    "            \n",
    "        if node.right is not None:\n",
    "            queue.append(node.right)\n",
    "            \n",
    "def DepthFirstSearch(node, found):\n",
    "    if node is None or found:\n",
    "        return found\n",
    "    \n",
    "    if node.data == \"E\":\n",
    "        print(node.data, end = \" \")\n",
    "        found = True\n",
    "        return found\n",
    "        \n",
    "    print(node.data, end = \" \")\n",
    "    if found == False:\n",
    "        found = DepthFirstSearch(node.left, found)\n",
    "    if found == False:\n",
    "        found = DepthFirstSearch(node.middle, found)\n",
    "    if found == False:\n",
    "        found = DepthFirstSearch(node.right, found)"
   ]
  },
  {
   "cell_type": "code",
   "execution_count": 2,
   "id": "d43cdcc4",
   "metadata": {},
   "outputs": [
    {
     "name": "stdout",
     "output_type": "stream",
     "text": [
      "A S B G C H F F E \n",
      "A S G H E "
     ]
    }
   ],
   "source": [
    "tree = Node(\"A\")\n",
    "tree.left = Node(\"S\")\n",
    "tree.right = Node(\"B\")\n",
    "tree.left.left = Node(\"G\")\n",
    "tree.left.right = Node(\"C\")\n",
    "tree.left.right.left = Node(\"F\")\n",
    "tree.left.left.right = tree.left.right.left\n",
    "tree.left.left.middle = Node(\"H\")\n",
    "tree.left.left.middle.right = Node(\"E\")\n",
    "tree.left.right.right = Node(\"D\")\n",
    "tree.left.right.middle = tree.left.left.middle.right\n",
    "\n",
    "\n",
    "BreadthFirstSearch(tree)\n",
    "print(\"\")\n",
    "DepthFirstSearch(tree, False)"
   ]
  },
  {
   "cell_type": "code",
   "execution_count": 5,
   "id": "bc438986",
   "metadata": {},
   "outputs": [],
   "source": [
    "  \n",
    "class Process(multiprocessing.Process):\n",
    "    def __init__(self, id):\n",
    "        super(Process, self).__init__()\n",
    "        self.id = id\n",
    "                 \n",
    "    def run(self):\n",
    "        time.sleep(1)\n",
    "        print(\"I'm the process with id: {}\".format(self.id))\n",
    "  \n",
    "if __name__ == '__main__':\n",
    "    p = Process(0)\n",
    "    p.start()\n",
    "    p.join()\n",
    "    p = Process(1)\n",
    "    p.start()\n",
    "    p.join()\n",
    "    # perf_counter"
   ]
  }
 ],
 "metadata": {
  "kernelspec": {
   "display_name": "Python 3 (ipykernel)",
   "language": "python",
   "name": "python3"
  },
  "language_info": {
   "codemirror_mode": {
    "name": "ipython",
    "version": 3
   },
   "file_extension": ".py",
   "mimetype": "text/x-python",
   "name": "python",
   "nbconvert_exporter": "python",
   "pygments_lexer": "ipython3",
   "version": "3.10.7"
  }
 },
 "nbformat": 4,
 "nbformat_minor": 5
}
